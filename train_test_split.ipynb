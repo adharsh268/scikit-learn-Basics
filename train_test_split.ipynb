{
 "cells": [
  {
   "cell_type": "code",
   "execution_count": 1,
   "id": "736ba515-32bc-4ea6-b709-f6586d3e76e8",
   "metadata": {},
   "outputs": [],
   "source": [
    "from sklearn.model_selection import train_test_split\n",
    "import pandas as pd"
   ]
  },
  {
   "cell_type": "code",
   "execution_count": 7,
   "id": "1eec7c00-ada9-402d-b24a-c6c72af33968",
   "metadata": {},
   "outputs": [
    {
     "name": "stdout",
     "output_type": "stream",
     "text": [
      "training\n",
      "   age  sugar_lvl\n",
      "1   25         89\n",
      "6   55        170\n",
      "0   23         85\n",
      "4   46        140\n",
      "3   52        125\n",
      "5   56        160\n",
      "testing\n",
      "   age  sugar_lvl\n",
      "7   60        180\n",
      "2   47        120\n"
     ]
    }
   ],
   "source": [
    "data={\n",
    "    'age':[23,25,47,52,46,56,55,60],\n",
    "    'sugar_lvl':[85,89,120,125,140,160,170,180],\n",
    "    'diabetic':[0,0,1,1,1,1,1,1]\n",
    "}\n",
    "df=pd.DataFrame(data)\n",
    "X=df[['age','sugar_lvl']]\n",
    "y=df[['diabetic']]\n",
    "\n",
    "x_train,x_test,y_train,y_test=train_test_split(X,y,test_size=0.2,random_state=1)\n",
    "print('training')\n",
    "print(x_train)\n",
    "print('testing')\n",
    "print(x_test)\n"
   ]
  },
  {
   "cell_type": "raw",
   "id": "551d5db8-e9ea-439e-a135-328783971e50",
   "metadata": {},
   "source": []
  }
 ],
 "metadata": {
  "kernelspec": {
   "display_name": "Python [conda env:base] *",
   "language": "python",
   "name": "conda-base-py"
  },
  "language_info": {
   "codemirror_mode": {
    "name": "ipython",
    "version": 3
   },
   "file_extension": ".py",
   "mimetype": "text/x-python",
   "name": "python",
   "nbconvert_exporter": "python",
   "pygments_lexer": "ipython3",
   "version": "3.13.5"
  }
 },
 "nbformat": 4,
 "nbformat_minor": 5
}
